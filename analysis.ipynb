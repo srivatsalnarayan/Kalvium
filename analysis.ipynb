{
 "cells": [
  {
   "cell_type": "code",
   "execution_count": 4,
   "metadata": {},
   "outputs": [
    {
     "name": "stdout",
     "output_type": "stream",
     "text": [
      "Requirement already satisfied: ipywidgets in c:\\users\\srivatsal narayan\\anaconda3\\envs\\myenv\\lib\\site-packages (8.1.1)\n",
      "Collecting comm>=0.1.3 (from ipywidgets)\n",
      "  Obtaining dependency information for comm>=0.1.3 from https://files.pythonhosted.org/packages/e6/75/49e5bfe642f71f272236b5b2d2691cf915a7283cc0ceda56357b61daa538/comm-0.2.2-py3-none-any.whl.metadata\n",
      "  Downloading comm-0.2.2-py3-none-any.whl.metadata (3.7 kB)\n",
      "Requirement already satisfied: ipython>=6.1.0 in c:\\users\\srivatsal narayan\\anaconda3\\envs\\myenv\\lib\\site-packages (from ipywidgets) (8.12.2)\n",
      "Requirement already satisfied: traitlets>=4.3.1 in c:\\users\\srivatsal narayan\\anaconda3\\envs\\myenv\\lib\\site-packages (from ipywidgets) (5.7.1)\n",
      "Requirement already satisfied: widgetsnbextension~=4.0.9 in c:\\users\\srivatsal narayan\\anaconda3\\envs\\myenv\\lib\\site-packages (from ipywidgets) (4.0.9)\n",
      "Requirement already satisfied: jupyterlab-widgets~=3.0.9 in c:\\users\\srivatsal narayan\\anaconda3\\envs\\myenv\\lib\\site-packages (from ipywidgets) (3.0.9)\n",
      "Requirement already satisfied: backcall in c:\\users\\srivatsal narayan\\anaconda3\\envs\\myenv\\lib\\site-packages (from ipython>=6.1.0->ipywidgets) (0.2.0)\n",
      "Requirement already satisfied: decorator in c:\\users\\srivatsal narayan\\anaconda3\\envs\\myenv\\lib\\site-packages (from ipython>=6.1.0->ipywidgets) (5.1.1)\n",
      "Requirement already satisfied: jedi>=0.16 in c:\\users\\srivatsal narayan\\anaconda3\\envs\\myenv\\lib\\site-packages (from ipython>=6.1.0->ipywidgets) (0.18.1)\n",
      "Requirement already satisfied: matplotlib-inline in c:\\users\\srivatsal narayan\\anaconda3\\envs\\myenv\\lib\\site-packages (from ipython>=6.1.0->ipywidgets) (0.1.6)\n",
      "Requirement already satisfied: pickleshare in c:\\users\\srivatsal narayan\\anaconda3\\envs\\myenv\\lib\\site-packages (from ipython>=6.1.0->ipywidgets) (0.7.5)\n",
      "Requirement already satisfied: prompt-toolkit!=3.0.37,<3.1.0,>=3.0.30 in c:\\users\\srivatsal narayan\\anaconda3\\envs\\myenv\\lib\\site-packages (from ipython>=6.1.0->ipywidgets) (3.0.36)\n",
      "Requirement already satisfied: pygments>=2.4.0 in c:\\users\\srivatsal narayan\\anaconda3\\envs\\myenv\\lib\\site-packages (from ipython>=6.1.0->ipywidgets) (2.15.1)\n",
      "Requirement already satisfied: stack-data in c:\\users\\srivatsal narayan\\anaconda3\\envs\\myenv\\lib\\site-packages (from ipython>=6.1.0->ipywidgets) (0.2.0)\n",
      "Requirement already satisfied: typing-extensions in c:\\users\\srivatsal narayan\\anaconda3\\envs\\myenv\\lib\\site-packages (from ipython>=6.1.0->ipywidgets) (4.12.2)\n",
      "Requirement already satisfied: colorama in c:\\users\\srivatsal narayan\\anaconda3\\envs\\myenv\\lib\\site-packages (from ipython>=6.1.0->ipywidgets) (0.4.6)\n",
      "Requirement already satisfied: parso<0.9.0,>=0.8.0 in c:\\users\\srivatsal narayan\\anaconda3\\envs\\myenv\\lib\\site-packages (from jedi>=0.16->ipython>=6.1.0->ipywidgets) (0.8.3)\n",
      "Requirement already satisfied: wcwidth in c:\\users\\srivatsal narayan\\anaconda3\\envs\\myenv\\lib\\site-packages (from prompt-toolkit!=3.0.37,<3.1.0,>=3.0.30->ipython>=6.1.0->ipywidgets) (0.2.5)\n",
      "Requirement already satisfied: executing in c:\\users\\srivatsal narayan\\anaconda3\\envs\\myenv\\lib\\site-packages (from stack-data->ipython>=6.1.0->ipywidgets) (0.8.3)\n",
      "Requirement already satisfied: asttokens in c:\\users\\srivatsal narayan\\anaconda3\\envs\\myenv\\lib\\site-packages (from stack-data->ipython>=6.1.0->ipywidgets) (2.0.5)\n",
      "Requirement already satisfied: pure-eval in c:\\users\\srivatsal narayan\\anaconda3\\envs\\myenv\\lib\\site-packages (from stack-data->ipython>=6.1.0->ipywidgets) (0.2.2)\n",
      "Requirement already satisfied: six in c:\\users\\srivatsal narayan\\anaconda3\\envs\\myenv\\lib\\site-packages (from asttokens->stack-data->ipython>=6.1.0->ipywidgets) (1.16.0)\n",
      "Downloading comm-0.2.2-py3-none-any.whl (7.2 kB)\n",
      "Installing collected packages: comm\n",
      "  Attempting uninstall: comm\n",
      "    Found existing installation: comm 0.1.2\n",
      "    Uninstalling comm-0.1.2:\n",
      "      Successfully uninstalled comm-0.1.2\n",
      "Successfully installed comm-0.2.1\n",
      "Note: you may need to restart the kernel to use updated packages.\n"
     ]
    }
   ],
   "source": [
    "pip install ipywidgets\n"
   ]
  },
  {
   "cell_type": "code",
   "execution_count": 10,
   "metadata": {},
   "outputs": [
    {
     "data": {
      "application/vnd.jupyter.widget-view+json": {
       "model_id": "9699faa4306e4f4db3879744280d43ef",
       "version_major": 2,
       "version_minor": 0
      },
      "text/plain": [
       "Dropdown(description='Select State:', options=('', 'Telangana', 'Haryana', 'Andaman & Nicobar Islands', 'Andhr…"
      ]
     },
     "metadata": {},
     "output_type": "display_data"
    },
    {
     "data": {
      "application/vnd.jupyter.widget-view+json": {
       "model_id": "9bf2f29551e34e51a83727f5320a9650",
       "version_major": 2,
       "version_minor": 0
      },
      "text/plain": [
       "Dropdown(description='Select Constituency:', options=('',), value='')"
      ]
     },
     "metadata": {},
     "output_type": "display_data"
    },
    {
     "data": {
      "application/vnd.jupyter.widget-view+json": {
       "model_id": "28368995c6b04aeea7379af48fb7eec6",
       "version_major": 2,
       "version_minor": 0
      },
      "text/plain": [
       "Output()"
      ]
     },
     "metadata": {},
     "output_type": "display_data"
    }
   ],
   "source": [
    "import pandas as pd\n",
    "import ipywidgets as widgets\n",
    "from IPython.display import display, clear_output\n",
    "import matplotlib.pyplot as plt\n",
    "import seaborn as sns\n",
    "\n",
    "# Function to load data from CSV and filter out rows with Party 'Total'\n",
    "def load_data(csv_path):\n",
    "    try:\n",
    "        df = pd.read_csv(csv_path)\n",
    "        df = df[~df['Party'].str.contains('Total')]  # Exclude rows with 'Total' in Party column\n",
    "        return df\n",
    "    except FileNotFoundError:\n",
    "        print(f\"Error: File '{csv_path}' not found.\")\n",
    "        return None\n",
    "\n",
    "# Function to display details table with state and constituency filters\n",
    "def display_details_table(csv_path):\n",
    "    # Load initial data\n",
    "    df = load_data(csv_path)\n",
    "    if df is not None:\n",
    "        # Create state dropdown\n",
    "        states = [''] + df['State'].unique().tolist()  # Include empty option\n",
    "        state_dropdown = widgets.Dropdown(options=states, description='Select State:')\n",
    "        \n",
    "        # Create constituency dropdown (initially empty)\n",
    "        constituencies = ['']  # Empty list for now\n",
    "        constituency_dropdown = widgets.Dropdown(options=constituencies, description='Select Constituency:')\n",
    "        \n",
    "        # Output widget to display DataFrame\n",
    "        out = widgets.Output()\n",
    "        \n",
    "        # Function to update constituency dropdown based on selected state\n",
    "        def update_constituencies(state):\n",
    "            nonlocal constituencies\n",
    "            if state:\n",
    "                constituencies = [''] + df[df['State'] == state]['Constituency'].unique().tolist()\n",
    "            else:\n",
    "                constituencies = ['']  # Reset to empty if no state selected\n",
    "            constituency_dropdown.options = constituencies\n",
    "\n",
    "        # Function to update details table based on selected state and constituency\n",
    "        def update_details_table(state, constituency):\n",
    "            with out:\n",
    "                clear_output(wait=True)  # Clear previous output\n",
    "                if state:\n",
    "                    if constituency:  # Check if a constituency is selected\n",
    "                        df_filtered = df[(df['State'] == state) & (df['Constituency'] == constituency)]\n",
    "                    else:\n",
    "                        df_filtered = df[df['State'] == state]\n",
    "                    display(df_filtered[df_filtered.columns.difference(['S.N.', 'File Name'])])  # Display selected columns\n",
    "\n",
    "        # Connect dropdown widgets to update functions\n",
    "        widgets.interactive(update_constituencies, state=state_dropdown)\n",
    "        widgets.interactive(update_details_table, state=state_dropdown, constituency=constituency_dropdown)\n",
    "\n",
    "        # Display widgets\n",
    "        display(state_dropdown, constituency_dropdown, out)\n",
    "\n",
    "    else:\n",
    "        print(\"Data not loaded.\")\n",
    "\n",
    "# Define CSV path\n",
    "csv_path = './Parliamentary Constituencies/combined_level3_with_state_and_constituency.csv'  # Replace with your actual CSV file path\n",
    "\n",
    "# Display details table with state and constituency filters\n",
    "display_details_table(csv_path)\n"
   ]
  },
  {
   "cell_type": "code",
   "execution_count": 15,
   "metadata": {},
   "outputs": [
    {
     "data": {
      "application/vnd.jupyter.widget-view+json": {
       "model_id": "6fde94d6a6404dbca97f7de8b6b21eb9",
       "version_major": 2,
       "version_minor": 0
      },
      "text/plain": [
       "HBox(children=(Dropdown(description='Select State:', options=('', 'Telangana', 'Haryana', 'Andaman & Nicobar I…"
      ]
     },
     "metadata": {},
     "output_type": "display_data"
    },
    {
     "data": {
      "application/vnd.jupyter.widget-view+json": {
       "model_id": "f08a02f5302c416085f68346a440f0bf",
       "version_major": 2,
       "version_minor": 0
      },
      "text/plain": [
       "Output()"
      ]
     },
     "metadata": {},
     "output_type": "display_data"
    }
   ],
   "source": [
    "import pandas as pd\n",
    "import ipywidgets as widgets\n",
    "from IPython.display import display, clear_output\n",
    "import matplotlib.pyplot as plt\n",
    "import seaborn as sns\n",
    "\n",
    "# Function to load data from CSV and filter out rows with Party 'Total'\n",
    "def load_data(csv_path):\n",
    "    try:\n",
    "        df = pd.read_csv(csv_path)\n",
    "        df = df[~df['Party'].str.contains('Total')]  # Exclude rows with 'Total' in Party column\n",
    "        return df\n",
    "    except FileNotFoundError:\n",
    "        print(f\"Error: File '{csv_path}' not found.\")\n",
    "        return None\n",
    "\n",
    "# Function to display details table with state and constituency filters\n",
    "def display_details_table(csv_path):\n",
    "    # Load initial data\n",
    "    df = load_data(csv_path)\n",
    "    if df is not None:\n",
    "        # Create state dropdown\n",
    "        states = [''] + df['State'].unique().tolist()  # Include empty option\n",
    "        state_dropdown = widgets.Dropdown(options=states, description='Select State:')\n",
    "        \n",
    "        # Create constituency dropdown (initially empty)\n",
    "        constituencies = ['']  # Empty list for now\n",
    "        constituency_dropdown = widgets.Dropdown(options=constituencies, description='Select Constituency:')\n",
    "        \n",
    "        # Output widget to display DataFrame\n",
    "        out = widgets.Output()\n",
    "        \n",
    "        # Function to update constituency dropdown based on selected state\n",
    "        def update_constituencies(state):\n",
    "            nonlocal constituencies\n",
    "            if state:\n",
    "                constituencies = [''] + df[df['State'] == state]['Constituency'].unique().tolist()\n",
    "            else:\n",
    "                constituencies = ['']  # Reset to empty if no state selected\n",
    "            constituency_dropdown.options = constituencies\n",
    "\n",
    "        # Function to update details table based on selected state and constituency\n",
    "        def update_details_table(state, constituency):\n",
    "            with out:\n",
    "                clear_output(wait=True)  # Clear previous output\n",
    "                if state:\n",
    "                    if constituency:  # Check if a constituency is selected\n",
    "                        df_filtered = df[(df['State'] == state) & (df['Constituency'] == constituency)]\n",
    "                    else:\n",
    "                        df_filtered = df[df['State'] == state]\n",
    "                    \n",
    "                    # Convert 'Total Votes' column to numeric if necessary\n",
    "                    df_filtered['Total Votes'] = pd.to_numeric(df_filtered['Total Votes'], errors='coerce')\n",
    "\n",
    "                    # Display table with selected columns\n",
    "                    display(df_filtered[['Candidate', 'Party', 'EVM Votes', 'Postal Votes', 'Total Votes', '% of Votes']])\n",
    "                    \n",
    "                    # Create horizontal bar plot for parties and seats won\n",
    "                    plt.figure(figsize=(14, 6))\n",
    "                    sns.barplot(x='Total Votes', y='Party', data=df_filtered, estimator=sum, ci=None, palette='muted')\n",
    "                    plt.xlabel('Seats Won')\n",
    "                    plt.ylabel('Party')\n",
    "                    plt.title('Seats Won by Party')\n",
    "                    plt.xticks(rotation=45)\n",
    "                    plt.tight_layout()\n",
    "                    plt.show()\n",
    "\n",
    "                    # Create horizontal bar plot for parties and seats won with state filter\n",
    "                    if not constituency:  # Only show if no specific constituency selected\n",
    "                        plt.figure(figsize=(14, 6))\n",
    "                        sns.barplot(x='Total Votes', y='Party', data=df[df['State'] == state], estimator=sum, ci=None, palette='muted')\n",
    "                        plt.xlabel('Seats Won')\n",
    "                        plt.ylabel('Party')\n",
    "                        plt.title(f'Seats Won by Party in {state}')\n",
    "                        plt.xticks(rotation=45)\n",
    "                        plt.tight_layout()\n",
    "                        plt.show()\n",
    "\n",
    "        # Connect dropdown widgets to update functions\n",
    "        widgets.interactive(update_constituencies, state=state_dropdown)\n",
    "        widgets.interactive(update_details_table, state=state_dropdown, constituency=constituency_dropdown)\n",
    "\n",
    "        # Display widgets\n",
    "        display(widgets.HBox([state_dropdown, constituency_dropdown]))\n",
    "        display(out)\n",
    "\n",
    "    else:\n",
    "        print(\"Data not loaded.\")\n",
    "\n",
    "# Define CSV path\n",
    "csv_path = './Parliamentary Constituencies/combined_level3_with_state_and_constituency.csv'  # Replace with your actual CSV file path\n",
    "\n",
    "# Display details table with state and constituency filters\n",
    "display_details_table(csv_path)\n"
   ]
  }
 ],
 "metadata": {
  "kernelspec": {
   "display_name": "myenv",
   "language": "python",
   "name": "python3"
  },
  "language_info": {
   "codemirror_mode": {
    "name": "ipython",
    "version": 3
   },
   "file_extension": ".py",
   "mimetype": "text/x-python",
   "name": "python",
   "nbconvert_exporter": "python",
   "pygments_lexer": "ipython3",
   "version": "3.8.17"
  }
 },
 "nbformat": 4,
 "nbformat_minor": 2
}
